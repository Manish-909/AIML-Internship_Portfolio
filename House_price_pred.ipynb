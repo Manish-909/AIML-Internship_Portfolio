{
 "cells": [
  {
   "cell_type": "markdown",
   "id": "bb3d3858",
   "metadata": {},
   "source": [
    "House Price Prediction"
   ]
  },
  {
   "cell_type": "code",
   "execution_count": null,
   "id": "32a866c0",
   "metadata": {},
   "outputs": [],
   "source": [
    "import pandas as pd\n",
    "import numpy as np\n",
    "\n",
    "dataset = \"bengaluru_house_prices.csv\"\n",
    "\n",
    "df = pd.read_csv(dataset)\n",
    "print(df.isna().sum())\n",
    "\n"
   ]
  },
  {
   "cell_type": "code",
   "execution_count": null,
   "id": "e179a7aa",
   "metadata": {},
   "outputs": [],
   "source": [
    "# Dropping unnecessary features\n",
    "\n",
    "c = [\"area_type\",\"availability\",\"society\",\"balcony\"]\n",
    "df.drop(columns=c,inplace=True)"
   ]
  },
  {
   "cell_type": "code",
   "execution_count": null,
   "id": "48a543fb",
   "metadata": {},
   "outputs": [],
   "source": [
    "# Getting the number of BHK in standard formate\n",
    "\n",
    "size = []\n",
    "\n",
    "for i in df['size']:\n",
    "    size = df['size'].str.strip().str.get(0).astype(int)\n",
    "\n",
    "df['size']=size.astype(int)   "
   ]
  },
  {
   "cell_type": "code",
   "execution_count": null,
   "id": "22eaa602",
   "metadata": {},
   "outputs": [],
   "source": [
    "# Filling nan values using imputer\n",
    "\n",
    "from sklearn.impute import SimpleImputer\n",
    "\n",
    "imputer = SimpleImputer(strategy=\"mean\")\n",
    "df[['size']] = imputer.fit_transform(df[['size']])\n",
    "\n",
    "c = SimpleImputer(strategy=\"most_frequent\")\n",
    "df[['location']] = c.fit_transform(df[['location']])\n",
    "\n",
    "i = SimpleImputer(strategy='mean')\n",
    "df[['total_sqft']] = i.fit_transform(df[[\"total_sqft\"]])"
   ]
  },
  {
   "cell_type": "code",
   "execution_count": null,
   "id": "d8b9cfbd",
   "metadata": {},
   "outputs": [],
   "source": [
    "df.iloc[2500:2505] # for printing a specific range of values\n",
    "\n",
    "df.dropna(subset=['bath'],inplace=True) # removing nan values of bath"
   ]
  },
  {
   "cell_type": "code",
   "execution_count": null,
   "id": "bfbf732d",
   "metadata": {},
   "outputs": [],
   "source": [
    "#helper function to remove range\n",
    "\n",
    "def range_fix(x):\n",
    "    temp = x.split(\"-\")\n",
    "    if len(temp)==2:\n",
    "        return (float(temp[0])+float(temp[1]))//2\n",
    "\n",
    "    try:\n",
    "        return x\n",
    "    except :\n",
    "        return None\n",
    "    \n",
    "df['total_sqft'] = df['total_sqft'].apply(range_fix)\n",
    "\n",
    "# force convertion from object to float\n",
    "df['total_sqft'] = pd.to_numeric(df['total_sqft'],errors='coerce')\n",
    "\n",
    "# Adding a new feature for square feet rate\n",
    "df['sqft_rate'] = ((df['price'] * 1000000) / df['total_sqft']).round(2)"
   ]
  },
  {
   "cell_type": "code",
   "execution_count": null,
   "id": "c343072d",
   "metadata": {},
   "outputs": [],
   "source": [
    "for c in df.columns:\n",
    "    print(c , \" : \",df[c].dtype)"
   ]
  },
  {
   "cell_type": "code",
   "execution_count": null,
   "id": "9a279c80",
   "metadata": {},
   "outputs": [],
   "source": [
    "#taking a count of all location\n",
    "\n",
    "location_count = df['location'].value_counts()\n",
    "\n",
    "#replace location name with others if there occurance is less then 10\n",
    "\n",
    "location_count_10 = location_count[location_count<10].index.to_list()\n",
    "df['location'] = df['location'].apply(lambda x : \"Other\" if x in location_count_10 else x)\n"
   ]
  },
  {
   "cell_type": "code",
   "execution_count": null,
   "id": "ce6aaae2",
   "metadata": {},
   "outputs": [],
   "source": [
    "# Handling outliers\n",
    "\n",
    "# outliers exists in bhk total_sqft:1,53k , \n",
    "\n",
    "data = df[(df['total_sqft']/df['size'])>=300]\n",
    "data = data.rename(columns={'size':'BHK','bath':'Bathroom','location':'Location','total_sqft':'Size'}) # renaming columns\n",
    "\n",
    "import numpy as np\n",
    "\n",
    "def remove_outlier_sqft(df):\n",
    "    df_output= pd.DataFrame()\n",
    "    for key , subdf in df.groupby('location'):\n",
    "        m = np.mean(subdf.sqft_rate)\n",
    "        st = np.std(subdf.sqft_rate)\n",
    "        gen_df = subdf[(subdf.sqft_rate>(m-st)) & (subdf.sqft_rate<=(m+st))]\n",
    "        df_output = pd.concat([df_output,gen_df],ignore_index=True)\n",
    "    return df_output\n",
    "data = remove_outlier_sqft(data)\n",
    "data.describe()\n",
    "\n",
    "def bhk_outlier_remover(df):\n",
    "    excluder_indices = np.array([])\n",
    "    for location , location_df in df.groupby('location'):\n",
    "        bhk_stat = []\n",
    "        for bhk , bhk_df in location_df.groupby('BHK'):\n",
    "            bhk_stat[BHK]={\n",
    "                'mean' : np.mean(bhk_df.sqft_rate),\n",
    "                'std' : np.std(bhk_df.sqft_rate),\n",
    "                'count' : bhk_df.shaper[0]\n",
    "            }\n",
    "        for bhk , bhk_df in location_df.groupby('BHK'):\n",
    "            stats = bhk_stat.get(bhk-1)\n",
    "            if stats and stats['count']>5:\n",
    "              excluder_indices= np.append(excluder_indices,bhk_df[bhk_df.sqft_rate<(stats['mean'])].index.values)  \n",
    "    return df.drop(excluder_indices,axis='index')"
   ]
  },
  {
   "cell_type": "markdown",
   "id": "3d83bcb4",
   "metadata": {},
   "source": [
    "Cleaned data"
   ]
  },
  {
   "cell_type": "code",
   "execution_count": null,
   "id": "03f598d2",
   "metadata": {},
   "outputs": [],
   "source": [
    "data = data.drop(columns=(('sqft_rate')),inplace=True)\n",
    "data.to_csv('Cleaned Data')"
   ]
  },
  {
   "cell_type": "code",
   "execution_count": null,
   "id": "833b7bff",
   "metadata": {},
   "outputs": [],
   "source": [
    "data['Location'].unique()"
   ]
  },
  {
   "cell_type": "markdown",
   "id": "1479b76b",
   "metadata": {},
   "source": [
    "Training the model"
   ]
  },
  {
   "cell_type": "code",
   "execution_count": null,
   "id": "0b99d27e",
   "metadata": {},
   "outputs": [],
   "source": [
    "from sklearn.model_selection import train_test_split\n",
    "from sklearn.linear_model import LinearRegression , Lasso , Ridge\n",
    "from sklearn.metrics import r2_score\n",
    "from sklearn.preprocessing import OneHotEncoder , StandardScaler\n",
    "from sklearn.pipeline import make_pipeline\n",
    "from sklearn.compose import make_column_transformer\n",
    "\n",
    "import pandas as pd\n",
    "\n",
    "X = data.drop(columns=['Cost'])\n",
    "y = data.Cost\n",
    "\n",
    "X_train , X_test , y_train , y_test = train_test_split(X,y,random_state=42,test_size=0.2)\n",
    "\n",
    "print(X_train.shape,\"\\n\",X_test.shape,'\\n',y_train.shape,'\\n',y_test.shape)"
   ]
  },
  {
   "cell_type": "code",
   "execution_count": null,
   "id": "ae80bbaf",
   "metadata": {},
   "outputs": [],
   "source": [
    "column_transformer = make_column_transformer((OneHotEncoder(sparse_output=False),['Location']),remainder='passthrough')\n",
    "scaler = StandardScaler()\n",
    "lr = LinearRegression()\n",
    "pipe = make_pipeline(column_transformer,scaler,lr)\n",
    "pipe.fit(X_train,y_train)"
   ]
  },
  {
   "cell_type": "code",
   "execution_count": 209,
   "id": "8e622695",
   "metadata": {},
   "outputs": [
    {
     "name": "stdout",
     "output_type": "stream",
     "text": [
      "0.43923361801065997\n"
     ]
    }
   ],
   "source": [
    "y_pred_lr = pipe.predict(X_test)\n",
    "print(r2_score(y_test,y_pred_lr))"
   ]
  },
  {
   "cell_type": "code",
   "execution_count": null,
   "id": "02fc82db",
   "metadata": {},
   "outputs": [
    {
     "name": "stdout",
     "output_type": "stream",
     "text": [
      "[ 52.80772757 -33.49937313  58.08194659 ... 136.41245288 286.26727451\n",
      " 115.67174124]\n"
     ]
    }
   ],
   "source": [
    "print(y_pred_lr)"
   ]
  },
  {
   "cell_type": "code",
   "execution_count": null,
   "id": "c23b4274",
   "metadata": {},
   "outputs": [],
   "source": []
  }
 ],
 "metadata": {
  "kernelspec": {
   "display_name": "Python 3",
   "language": "python",
   "name": "python3"
  },
  "language_info": {
   "codemirror_mode": {
    "name": "ipython",
    "version": 3
   },
   "file_extension": ".py",
   "mimetype": "text/x-python",
   "name": "python",
   "nbconvert_exporter": "python",
   "pygments_lexer": "ipython3",
   "version": "3.11.9"
  }
 },
 "nbformat": 4,
 "nbformat_minor": 5
}
